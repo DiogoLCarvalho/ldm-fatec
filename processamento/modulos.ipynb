{
 "cells": [
  {
   "cell_type": "code",
   "execution_count": 21,
   "metadata": {},
   "outputs": [
    {
     "data": {
      "text/plain": [
       "['ola estou estudando para a minha prova de pln',\n",
       " 'o dia esta bonito hojevamos estudarfoco',\n",
       " 'aprender e essencialnao ha limites quando ha esforco',\n",
       " 'palavrasespacos extras e quebras de linha',\n",
       " 'e mails como exemplo teste com e links como httpswww teste com devem ser tratados',\n",
       " 'numeros nao sao uteis e caracteres especiais tambem nao',\n",
       " 'este e um texto com uma data formatar ou remover',\n",
       " 'pln e incrivelmuito incrivel mesmo',\n",
       " 'trailing and leading spaces']"
      ]
     },
     "execution_count": 21,
     "metadata": {},
     "output_type": "execute_result"
    }
   ],
   "source": [
    "## Limpar um texto\n",
    "\n",
    "textos = [\n",
    "    \"Olá! Estou #estudando para a minha prova de PLN. 12345... ;)\",\n",
    "    \"O dia está bonito hoje!!! 🌞 Vamos estudar? #foco\",\n",
    "    \"\\nAprender é essencial.\\n\\nNão há limites quando há esforço! 🚀  \",\n",
    "    \"Palavras,     espaços    extras e\\nquebras de linha     \",\n",
    "    \"E-mails como exemplo@teste.com e links como https://www.teste.com devem ser tratados.\",\n",
    "    \"1234567890 Números não são úteis, e caracteres especiais também não!!! *&$#@\",\n",
    "    \"Este é um texto com uma data: 01/12/2024. Formatar ou remover?\",\n",
    "    \"PLN é incrível! (muito incrível mesmo).\",\n",
    "    \"    Trailing and leading spaces.   \"\n",
    "]\n",
    "\n",
    "def limpa_caracteres_especiais(texto : str):\n",
    "    table = str.maketrans(\"\\n,.()*@#!;?-&$:/1234567890\",\"                          \")\n",
    "    texto_sem_caracteres = texto.translate(table)\n",
    "    texto_sem_caracteres = texto_sem_caracteres.replace(\"á\", \"a\")\n",
    "    texto_sem_caracteres = texto_sem_caracteres.replace(\"é\", \"e\")\n",
    "    texto_sem_caracteres = texto_sem_caracteres.replace(\"í\", \"i\")\n",
    "    texto_sem_caracteres = texto_sem_caracteres.replace(\"ú\", \"u\")\n",
    "    texto_sem_caracteres = texto_sem_caracteres.replace(\"ã\", \"a\")\n",
    "    texto_sem_caracteres = texto_sem_caracteres.replace(\"ç\", \"c\")\n",
    "    texto_sem_caracteres = texto_sem_caracteres.replace(\"🌞\", \" \")\n",
    "    texto_sem_caracteres = texto_sem_caracteres.replace(\"🚀\", \" \")\n",
    "    texto_sem_caracteres = texto_sem_caracteres.replace(\"   \", \"\")\n",
    "    texto_sem_caracteres = texto_sem_caracteres.replace(\"  \", \" \")\n",
    "    texto_sem_caracteres = texto_sem_caracteres.lower()\n",
    "    texto_sem_caracteres = texto_sem_caracteres.strip()\n",
    "    return texto_sem_caracteres\n",
    "\n",
    "textos_formatados = []\n",
    "for texto in textos:\n",
    "    texto_formatado = limpa_caracteres_especiais(texto)\n",
    "    textos_formatados.append(texto_formatado)\n",
    "textos_formatados"
   ]
  },
  {
   "cell_type": "code",
   "execution_count": 65,
   "metadata": {},
   "outputs": [
    {
     "data": {
      "text/plain": [
       "[['ola', 'estou', 'estudando', 'para', 'a', 'minha', 'prova', 'de', 'pln'],\n",
       " ['o', 'dia', 'esta', 'bonito', 'hojevamos', 'estudarfoco'],\n",
       " ['aprender', 'e', 'essencialnao', 'ha', 'limites', 'quando', 'ha', 'esforco'],\n",
       " ['palavrasespacos', 'extras', 'e', 'quebras', 'de', 'linha'],\n",
       " ['e',\n",
       "  'mails',\n",
       "  'como',\n",
       "  'exemplo',\n",
       "  'teste',\n",
       "  'com',\n",
       "  'e',\n",
       "  'links',\n",
       "  'como',\n",
       "  'httpswww',\n",
       "  'teste',\n",
       "  'com',\n",
       "  'devem',\n",
       "  'ser',\n",
       "  'tratados'],\n",
       " ['numeros',\n",
       "  'nao',\n",
       "  'sao',\n",
       "  'uteis',\n",
       "  'e',\n",
       "  'caracteres',\n",
       "  'especiais',\n",
       "  'tambem',\n",
       "  'nao'],\n",
       " ['este',\n",
       "  'e',\n",
       "  'um',\n",
       "  'texto',\n",
       "  'com',\n",
       "  'uma',\n",
       "  'data',\n",
       "  'formatar',\n",
       "  'ou',\n",
       "  'remover'],\n",
       " ['pln', 'e', 'incrivelmuito', 'incrivel', 'mesmo'],\n",
       " ['trailing', 'and', 'leading', 'spaces']]"
      ]
     },
     "execution_count": 65,
     "metadata": {},
     "output_type": "execute_result"
    }
   ],
   "source": [
    "## Transformar um texto em uma sequencia de tokens  \n",
    "def tokeniza_texto(texto):\n",
    "    tokens = texto.split()\n",
    "    return tokens\n",
    "\n",
    "list_tokens = []\n",
    "for texto in textos_formatados:\n",
    "    token = tokeniza_texto(texto)\n",
    "    list_tokens.append(token)\n",
    "list_tokens"
   ]
  },
  {
   "cell_type": "code",
   "execution_count": 24,
   "metadata": {},
   "outputs": [
    {
     "data": {
      "text/plain": [
       "{'ola': 0,\n",
       " 'estou': 1,\n",
       " 'estudando': 2,\n",
       " 'para': 3,\n",
       " 'a': 4,\n",
       " 'minha': 5,\n",
       " 'prova': 6,\n",
       " 'de': 27,\n",
       " 'pln': 63,\n",
       " 'o': 9,\n",
       " 'dia': 10,\n",
       " 'esta': 11,\n",
       " 'bonito': 12,\n",
       " 'hojevamos': 13,\n",
       " 'estudarfoco': 14,\n",
       " 'aprender': 15,\n",
       " 'e': 64,\n",
       " 'essencialnao': 17,\n",
       " 'ha': 21,\n",
       " 'limites': 19,\n",
       " 'quando': 20,\n",
       " 'esforco': 22,\n",
       " 'palavrasespacos': 23,\n",
       " 'extras': 24,\n",
       " 'quebras': 26,\n",
       " 'linha': 28,\n",
       " 'mails': 30,\n",
       " 'como': 37,\n",
       " 'exemplo': 32,\n",
       " 'teste': 39,\n",
       " 'com': 57,\n",
       " 'links': 36,\n",
       " 'httpswww': 38,\n",
       " 'devem': 41,\n",
       " 'ser': 42,\n",
       " 'tratados': 43,\n",
       " 'numeros': 44,\n",
       " 'nao': 52,\n",
       " 'sao': 46,\n",
       " 'uteis': 47,\n",
       " 'caracteres': 49,\n",
       " 'especiais': 50,\n",
       " 'tambem': 51,\n",
       " 'este': 53,\n",
       " 'um': 55,\n",
       " 'texto': 56,\n",
       " 'uma': 58,\n",
       " 'data': 59,\n",
       " 'formatar': 60,\n",
       " 'ou': 61,\n",
       " 'remover': 62,\n",
       " 'incrivelmuito': 65,\n",
       " 'incrivel': 66,\n",
       " 'mesmo': 67,\n",
       " 'trailing': 68,\n",
       " 'and': 69,\n",
       " 'leading': 70,\n",
       " 'spaces': 71}"
      ]
     },
     "execution_count": 24,
     "metadata": {},
     "output_type": "execute_result"
    }
   ],
   "source": [
    "# Fazer um dicionário\n",
    "def gera_dicionario(lista_textos, dict_final={}):\n",
    "    cont = 0\n",
    "    for texto in lista_textos:\n",
    "        if type(texto) is not str:\n",
    "            continue\n",
    "        \n",
    "        tokens = texto.split()\n",
    "        for token in tokens:\n",
    "            if token is not dict_final:\n",
    "                dict_final[token] = cont\n",
    "                cont += 1\n",
    "    \n",
    "    return dict_final\n",
    "\n",
    "dicionario_do_texto = gera_dicionario(textos_formatados)\n",
    "dicionario_do_texto"
   ]
  },
  {
   "cell_type": "code",
   "execution_count": 64,
   "metadata": {},
   "outputs": [
    {
     "data": {
      "text/plain": [
       "[15, 2, 17, 21, 19, 20, 21, 22]"
      ]
     },
     "execution_count": 64,
     "metadata": {},
     "output_type": "execute_result"
    }
   ],
   "source": [
    "# Transformar uma sequencia de texto em número\n",
    "\n",
    "def gera_texto_em_numeros(texto):\n",
    "    global dicionario_do_texto\n",
    "\n",
    "    lista_de_numeros = []\n",
    "    tokens = texto.split()\n",
    "    for token in tokens:\n",
    "        if token in dicionario_do_texto:\n",
    "            lista_de_numeros.append(dicionario_do_texto[token])\n",
    "    \n",
    "    return lista_de_numeros\n",
    "\n",
    "gera_texto_em_numeros(textos_formatados[2])"
   ]
  },
  {
   "cell_type": "code",
   "execution_count": 47,
   "metadata": {},
   "outputs": [
    {
     "data": {
      "text/plain": [
       "15"
      ]
     },
     "execution_count": 47,
     "metadata": {},
     "output_type": "execute_result"
    }
   ],
   "source": [
    "# Descobrir a maior sequencia de uma lista\n",
    "def maior_numero_de_lista(lista: list):\n",
    "    maior = 0\n",
    "\n",
    "    for valor_lista in lista:\n",
    "        comp_lista = len(valor_lista)\n",
    "\n",
    "        if comp_lista > maior:\n",
    "            maior = comp_lista\n",
    "\n",
    "    return maior\n",
    "\n",
    "maior_valor = maior_numero_de_lista(list_tokens)\n",
    "maior_valor"
   ]
  },
  {
   "cell_type": "code",
   "execution_count": 45,
   "metadata": {},
   "outputs": [
    {
     "name": "stdout",
     "output_type": "stream",
     "text": [
      "15\n",
      "15\n",
      "15\n",
      "15\n",
      "15\n",
      "15\n",
      "15\n",
      "15\n",
      "15\n"
     ]
    }
   ],
   "source": [
    "# paddind a direita\n",
    "\n",
    "def padding_a_direita(lista: list):\n",
    "    maior_valor = maior_numero_de_lista(list_tokens)\n",
    "\n",
    "    for i in range(maior_valor):\n",
    "        for valor_lista in lista:\n",
    "            try:\n",
    "                _ = valor_lista[i]\n",
    "            except:\n",
    "                valor_lista.append(0)\n",
    "    \n",
    "    return lista\n",
    "\n",
    "lista_tokens_paddinzada = padding_a_direita(list_tokens)\n",
    "for token in lista_tokens_paddinzada:\n",
    "    print(len(token))"
   ]
  },
  {
   "cell_type": "code",
   "execution_count": 68,
   "metadata": {},
   "outputs": [
    {
     "data": {
      "text/plain": [
       "[['ola', 'estou', 'estudando', 'prova', 'pln'],\n",
       " ['dia', 'bonito', 'hojevamos', 'estudarfoco'],\n",
       " ['aprender', 'essencialnao', 'ha', 'limites', 'ha', 'esforco'],\n",
       " ['palavrasespacos', 'extras', 'quebras', 'linha'],\n",
       " ['mails',\n",
       "  'exemplo',\n",
       "  'teste',\n",
       "  'e',\n",
       "  'links',\n",
       "  'httpswww',\n",
       "  'teste',\n",
       "  'com',\n",
       "  'devem',\n",
       "  'ser',\n",
       "  'tratados'],\n",
       " ['numeros',\n",
       "  'nao',\n",
       "  'sao',\n",
       "  'uteis',\n",
       "  'caracteres',\n",
       "  'especiais',\n",
       "  'tambem',\n",
       "  'nao'],\n",
       " ['texto', 'data', 'formatar', 'remover'],\n",
       " ['pln', 'incrivelmuito', 'incrivel'],\n",
       " ['trailing', 'and', 'leading', 'spaces']]"
      ]
     },
     "execution_count": 68,
     "metadata": {},
     "output_type": "execute_result"
    }
   ],
   "source": [
    "# Remover stopwords\n",
    "\n",
    "stopwords = [\n",
    "    \"a\", \"à\", \"ao\", \"aos\", \"as\",\n",
    "    \"com\", \"como\",\n",
    "    \"de\", \"da\", \"das\", \"do\", \"dos\",\n",
    "    \"e\", \"em\", \"é\", \"era\", \"eram\", \"essa\", \"esse\", \"estes\", \"esta\", \"estas\", \"este\",\n",
    "    \"há\", \"isso\", \"isto\",\n",
    "    \"mas\", \"me\", \"minha\", \"meu\", \"meus\", \n",
    "    \"na\", \"nas\", \"no\", \"nos\",\n",
    "    \"o\", \"os\", \"ou\",\n",
    "    \"para\", \"pela\", \"pelas\", \"pelo\", \"pelos\", \"por\", \"porque\", \"pois\", \n",
    "    \"que\", \"quem\",\n",
    "    \"se\", \"sem\", \"são\", \"sua\", \"suas\", \"seu\", \"seus\", \"sim\", \n",
    "    \"também\", \"te\", \"tem\", \"têm\", \"tendo\", \n",
    "    \"um\", \"uma\", \"umas\", \"uns\",\n",
    "    \"você\", \"vocês\", \"àquele\", \"àquela\", \"àqueles\", \"àquelas\", \"aquele\", \"aquela\", \"aqueles\", \"aquelas\", \n",
    "    \"ele\", \"ela\", \"eles\", \"elas\", \"nosso\", \"nossa\", \"nossos\", \"nossas\",\n",
    "    \"eu\", \"tu\", \"meu\", \"teu\", \"teus\", \"tua\", \"tuas\",\n",
    "    \"nos\", \"dele\", \"dela\", \"deles\", \"delas\", \"isto\", \"aquilo\", \n",
    "    \"foi\", \"era\", \"eram\", \"serei\", \"seremos\", \"será\", \"serão\",\n",
    "    \"já\", \"não\", \"sim\", \"quando\", \"onde\", \"como\", \"porque\", \"se\", \"mesmo\", \"também\", \n",
    "    \"entre\", \"sobre\", \"desde\", \"antes\", \"após\"\n",
    "]\n",
    "\n",
    "for token in list_tokens:\n",
    "    for word in stopwords:\n",
    "        try:\n",
    "            index = token.index(word)\n",
    "            token.pop(index)\n",
    "        except:\n",
    "            continue\n",
    "\n",
    "list_tokens"
   ]
  },
  {
   "cell_type": "code",
   "execution_count": null,
   "metadata": {},
   "outputs": [],
   "source": [
    "# Criar um modelo com camadas, compilar, treinar e predizer\n",
    "\n",
    "## Keras\n",
    "from tensorflow.keras.models import Sequential\n",
    "from tensorflow.keras.layers import Dense\n",
    "\n",
    "# Criando o modelo\n",
    "model = Sequential([\n",
    "    Dense(32, activation='relu', input_shape=(10,)),  # Camada de entrada com 10 features\n",
    "    Dense(16, activation='relu'),                    # Camada oculta\n",
    "    Dense(1, activation='sigmoid')                   # Saída binária\n",
    "])\n",
    "\n",
    "# Compilando o modelo\n",
    "model.compile(optimizer='adam', loss='binary_crossentropy', metrics=['accuracy'])\n",
    "\n",
    "# Dados fictícios\n",
    "import numpy as np\n",
    "X_train = np.random.rand(100, 10)  # 100 amostras, 10 features\n",
    "y_train = np.random.randint(2, size=100)\n",
    "\n",
    "# Treinando o modelo\n",
    "model.fit(X_train, y_train, epochs=10, batch_size=8)\n",
    "\n",
    "# Fazendo predições\n",
    "X_test = np.random.rand(10, 10)\n",
    "predictions = model.predict(X_test)\n"
   ]
  },
  {
   "cell_type": "code",
   "execution_count": 52,
   "metadata": {},
   "outputs": [
    {
     "name": "stdout",
     "output_type": "stream",
     "text": [
      "Acurácia: 0.525\n"
     ]
    }
   ],
   "source": [
    "# Criar um modelo com camadas, compilar, treinar e predizer\n",
    "\n",
    "## SKLEARN\n",
    "from sklearn.linear_model import LogisticRegression\n",
    "from sklearn.model_selection import train_test_split\n",
    "from sklearn.metrics import accuracy_score\n",
    "\n",
    "# Dados fictícios\n",
    "X = np.random.rand(200, 10)  # 200 amostras, 10 features\n",
    "y = np.random.randint(2, size=200)\n",
    "\n",
    "# Dividindo dados em treino e teste\n",
    "X_train, X_test, y_train, y_test = train_test_split(X, y, test_size=0.2, random_state=42)\n",
    "\n",
    "# Criando e treinando o modelo\n",
    "log_reg = LogisticRegression()\n",
    "log_reg.fit(X_train, y_train)\n",
    "\n",
    "# Fazendo predições\n",
    "y_pred = log_reg.predict(X_test)\n",
    "print(\"Acurácia:\", accuracy_score(y_test, y_pred))\n"
   ]
  },
  {
   "cell_type": "code",
   "execution_count": null,
   "metadata": {},
   "outputs": [
    {
     "name": "stdout",
     "output_type": "stream",
     "text": [
      "Palavras similares a 'texto': [('e', 0.19015765190124512), ('vamos', 0.18857429921627045), ('limpeza', 0.1744147092103958)]\n"
     ]
    }
   ],
   "source": [
    "# Criar um modelo com camadas, compilar, treinar e predizer\n",
    "\n",
    "## GEMSIN\n",
    "from gensim.models import Word2Vec\n",
    "\n",
    "# Exemplo de corpus de treinamento\n",
    "sentences = [\n",
    "    [\"este\", \"é\", \"um\", \"exemplo\", \"de\", \"corpus\"],\n",
    "    [\"processamento\", \"de\", \"linguagem\", \"natural\", \"é\", \"interessante\"],\n",
    "    [\"limpeza\", \"de\", \"texto\", \"é\", \"essencial\"],\n",
    "    [\"vamos\", \"aprender\", \"PLN\", \"e\", \"word2vec\"]\n",
    "]\n",
    "\n",
    "# Criando e treinando o modelo Word2Vec\n",
    "w2v_model = Word2Vec(sentences, vector_size=50, window=3, min_count=1, workers=4)\n",
    "\n",
    "# Previsão de similaridade entre palavras\n",
    "similar_words = w2v_model.wv.most_similar(\"texto\", topn=3)\n",
    "print(\"Palavras similares a 'texto':\", similar_words)\n"
   ]
  },
  {
   "cell_type": "code",
   "execution_count": 57,
   "metadata": {},
   "outputs": [
    {
     "data": {
      "image/png": "[encoded data removed]",
      "text/plain": [
       "<Figure size 640x480 with 1 Axes>"
      ]
     },
     "metadata": {},
     "output_type": "display_data"
    }
   ],
   "source": [
    "# plotar valores em um gráfico\n",
    "\n",
    "import matplotlib.pyplot as plt\n",
    "\n",
    "# Dados\n",
    "x = [1, 2, 3, 4, 5]\n",
    "y = [10, 20, 15, 25, 30]\n",
    "\n",
    "plt.plot(x, y, marker='o', linestyle='-', color='b', label='Dados') \n",
    "plt.title(\"Gráfico com Valores nos Pontos\", fontsize=14)\n",
    "plt.xlabel(\"Eixo X\", fontsize=12)\n",
    "plt.ylabel(\"Eixo Y\", fontsize=12)\n",
    "plt.legend()\n",
    "plt.show()\n"
   ]
  },
  {
   "cell_type": "code",
   "execution_count": 1,
   "metadata": {},
   "outputs": [
    {
     "name": "stdout",
     "output_type": "stream",
     "text": [
      "2 (2, 3) float32\n",
      "[1 2 3 4 5]\n",
      "[1. 2. 3. 4. 5.]\n",
      "1\n",
      "(5,)\n",
      "int32\n",
      "[[1. 1. 1. 1. 1. 1. 1. 1. 1. 1. 1. 1. 1. 1. 1. 1. 1. 1. 1. 1.]\n",
      " [1. 1. 1. 1. 1. 1. 1. 1. 1. 1. 1. 1. 1. 1. 1. 1. 1. 1. 1. 1.]\n",
      " [1. 1. 1. 1. 1. 1. 1. 1. 1. 1. 1. 1. 1. 1. 1. 1. 1. 1. 1. 1.]\n",
      " [1. 1. 1. 1. 1. 1. 1. 1. 1. 1. 1. 1. 1. 1. 1. 1. 1. 1. 1. 1.]\n",
      " [1. 1. 1. 1. 1. 1. 1. 1. 1. 1. 1. 1. 1. 1. 1. 1. 1. 1. 1. 1.]\n",
      " [1. 1. 1. 1. 1. 1. 1. 1. 1. 1. 1. 1. 1. 1. 1. 1. 1. 1. 1. 1.]\n",
      " [1. 1. 1. 1. 1. 1. 1. 1. 1. 1. 1. 1. 1. 1. 1. 1. 1. 1. 1. 1.]\n",
      " [1. 1. 1. 1. 1. 1. 1. 1. 1. 1. 1. 1. 1. 1. 1. 1. 1. 1. 1. 1.]\n",
      " [1. 1. 1. 1. 1. 1. 1. 1. 1. 1. 1. 1. 1. 1. 1. 1. 1. 1. 1. 1.]\n",
      " [1. 1. 1. 1. 1. 1. 1. 1. 1. 1. 1. 1. 1. 1. 1. 1. 1. 1. 1. 1.]]\n",
      "(10, 20)\n",
      "[1 1 1 1 1 1 1 1 1 1 1 1 1 1 1 1 1 1 1 1 1 1 1 1 1 1 1 1 1 1]\n",
      "[0. 0. 0. 0. 0. 0. 0. 0. 0. 0. 0. 0. 0. 0. 0. 0. 0. 0. 0. 0. 0. 0. 0. 0.\n",
      " 0. 0. 0. 0. 0. 0.]\n",
      "[ 1  3  5  7  9 11 13 15 17 19 21 23 25 27 29 31 33 35 37 39 41 43 45 47\n",
      " 49 51 53 55 57 59 61 63 65 67 69 71 73 75 77 79 81 83 85 87 89 91 93 95\n",
      " 97 99]\n",
      "[0. 0. 0. 0. 0. 0. 0. 0. 0. 0. 0. 0. 0. 0. 0. 0. 0. 0. 0. 0. 0. 0. 0. 0.\n",
      " 0. 0. 0. 0. 0. 0. 1. 1. 1. 1. 1. 1. 1. 1. 1. 1. 1. 1. 1. 1. 1. 1. 1. 1.\n",
      " 1. 1. 1. 1. 1. 1. 1. 1. 1. 1. 1. 1.]\n",
      "[[1. 1. 1. 1. 1. 1. 1. 1. 1. 1. 1. 1. 1. 1. 1. 1. 1. 1. 1. 1. 1. 1. 1. 1.\n",
      "  1. 1. 1. 1. 1. 1. 1. 1. 1. 1. 1. 1. 1. 1. 1. 1.]\n",
      " [1. 1. 1. 1. 1. 1. 1. 1. 1. 1. 1. 1. 1. 1. 1. 1. 1. 1. 1. 1. 1. 1. 1. 1.\n",
      "  1. 1. 1. 1. 1. 1. 1. 1. 1. 1. 1. 1. 1. 1. 1. 1.]\n",
      " [1. 1. 1. 1. 1. 1. 1. 1. 1. 1. 1. 1. 1. 1. 1. 1. 1. 1. 1. 1. 1. 1. 1. 1.\n",
      "  1. 1. 1. 1. 1. 1. 1. 1. 1. 1. 1. 1. 1. 1. 1. 1.]\n",
      " [1. 1. 1. 1. 1. 1. 1. 1. 1. 1. 1. 1. 1. 1. 1. 1. 1. 1. 1. 1. 1. 1. 1. 1.\n",
      "  1. 1. 1. 1. 1. 1. 1. 1. 1. 1. 1. 1. 1. 1. 1. 1.]\n",
      " [1. 1. 1. 1. 1. 1. 1. 1. 1. 1. 1. 1. 1. 1. 1. 1. 1. 1. 1. 1. 1. 1. 1. 1.\n",
      "  1. 1. 1. 1. 1. 1. 1. 1. 1. 1. 1. 1. 1. 1. 1. 1.]\n",
      " [1. 1. 1. 1. 1. 1. 1. 1. 1. 1. 1. 1. 1. 1. 1. 1. 1. 1. 1. 1. 1. 1. 1. 1.\n",
      "  1. 1. 1. 1. 1. 1. 1. 1. 1. 1. 1. 1. 1. 1. 1. 1.]\n",
      " [1. 1. 1. 1. 1. 1. 1. 1. 1. 1. 1. 1. 1. 1. 1. 1. 1. 1. 1. 1. 1. 1. 1. 1.\n",
      "  1. 1. 1. 1. 1. 1. 1. 1. 1. 1. 1. 1. 1. 1. 1. 1.]\n",
      " [1. 1. 1. 1. 1. 1. 1. 1. 1. 1. 1. 1. 1. 1. 1. 1. 1. 1. 1. 1. 1. 1. 1. 1.\n",
      "  1. 1. 1. 1. 1. 1. 1. 1. 1. 1. 1. 1. 1. 1. 1. 1.]\n",
      " [1. 1. 1. 1. 1. 1. 1. 1. 1. 1. 1. 1. 1. 1. 1. 1. 1. 1. 1. 1. 1. 1. 1. 1.\n",
      "  1. 1. 1. 1. 1. 1. 1. 1. 1. 1. 1. 1. 1. 1. 1. 1.]\n",
      " [1. 1. 1. 1. 1. 1. 1. 1. 1. 1. 1. 1. 1. 1. 1. 1. 1. 1. 1. 1. 1. 1. 1. 1.\n",
      "  1. 1. 1. 1. 1. 1. 1. 1. 1. 1. 1. 1. 1. 1. 1. 1.]]\n",
      "[1 1 1 1 1 1 1 1 1 1 1 1 1 1 1 1 1 1 1 1 1 1 1 1 1 1 1 1 1 1 1 1 1 1 1 1 1\n",
      " 1 1 1 1 1 1 1 1 1 1 1 1 1]\n",
      "[[0.14122851 0.91886095 0.30235802 0.95183763 0.91787745 0.38346798\n",
      "  0.42090872 0.41322211 0.60827125 0.16148305]\n",
      " [0.56119438 0.70113166 0.57518403 0.11228578 0.48557415 0.12919169\n",
      "  0.15970492 0.15029303 0.5946722  0.35708908]\n",
      " [0.4545857  0.29988719 0.02072901 0.40690179 0.24894746 0.04271793\n",
      "  0.66587528 0.4279476  0.3562612  0.64965346]\n",
      " [0.02120053 0.42324222 0.68558038 0.54836262 0.43780718 0.98902431\n",
      "  0.26200711 0.09050005 0.82331356 0.54696958]\n",
      " [0.72435834 0.6780931  0.92479137 0.311914   0.06926472 0.68106946\n",
      "  0.50994093 0.52979468 0.11163611 0.08050141]]\n",
      "[[7 5 9 6 8]\n",
      " [8 9 5 9 8]\n",
      " [5 7 6 8 8]\n",
      " [8 7 8 8 5]\n",
      " [8 5 6 9 7]\n",
      " [7 8 6 8 8]\n",
      " [6 9 9 8 5]\n",
      " [5 6 7 6 6]\n",
      " [5 9 9 9 6]\n",
      " [7 9 5 8 9]]\n"
     ]
    }
   ],
   "source": [
    "# Numpy Arrays\n",
    "\n",
    "import numpy as np\n",
    "\n",
    "# Arrays do numpy precisam se do mesmo tipo\n",
    "lista = np.array([[1,2,3], [4,5,6]], dtype=np.float32)\n",
    "\n",
    "print(lista.ndim, lista.shape, lista.dtype)\n",
    "\n",
    "# Criar arrays\n",
    "array_01 = np.array([1,2,3,4,5],dtype=np.int32)\n",
    "\n",
    "print(array_01)\n",
    "\n",
    "#Converter tipo da matriz\n",
    "print(array_01.astype(np.float32))\n",
    "\n",
    "# Verificar o númmero de dimensão\n",
    "print(array_01.ndim)\n",
    "\n",
    "# Quantidade de elementos\n",
    "print(array_01.shape)\n",
    "\n",
    "#Verificar os tipos de um array\n",
    "print(array_01.dtype)\n",
    "\n",
    "\n",
    "# Formas de criar arrays\n",
    "array_02 = np.ones((10,20), dtype=np.float64)\n",
    "\n",
    "print(array_02)\n",
    "print(array_02.shape)\n",
    "\n",
    "array_03 = np.ones((30), dtype=np.int16)\n",
    "print(array_03)\n",
    "\n",
    "array_04 = np.zeros((30,) , dtype=np.float16)\n",
    "print(array_04)\n",
    "\n",
    "# Array entre valores\n",
    "array_05 = np.arange(1, 100, 2)\n",
    "\n",
    "print(array_05)\n",
    "\n",
    "# juntar matrizes - tem que ser da mesma dimensão\n",
    "array_06 = np.concatenate([array_04, array_03])\n",
    "array_07 = np.concatenate([array_02, array_02], axis=1)\n",
    "\n",
    "print(array_06)\n",
    "print(array_07)\n",
    "\n",
    "# Criar uma matriz de zeros e um baseado em outra matriz - a array vai ter a mesma dimensão\n",
    "array_base = np.arange(10, 60)\n",
    "array_criada_pela_base = np.zeros_like(array_base)\n",
    "array_criada_pela_base = np.ones_like(array_base)\n",
    "print(array_criada_pela_base)\n",
    "\n",
    "array_08 = np.random.random((5, 10))\n",
    "array_09 = np.random.randint(5, 10, (10,5))\n",
    "print(array_08)\n",
    "print(array_09)"
   ]
  },
  {
   "cell_type": "code",
   "execution_count": 34,
   "metadata": {},
   "outputs": [
    {
     "name": "stdout",
     "output_type": "stream",
     "text": [
      "[2, 3, 4]\n",
      "[0, 2, 4, 6, 8]\n",
      "[9, 8, 7, 6, 5, 4, 3, 2, 1, 0]\n",
      "[0, 1, 2, 3, 4]\n",
      "[5, 6, 7, 8, 9]\n",
      "Primeiras idades: [23, 45, 18]\n",
      "Últimas idades: [40, 37, 29]\n",
      "Idades nas posições pares: [45, 34, 25, 40, 29]\n",
      "Lista invertida: [29, 37, 40, 50, 25, 30, 34, 18, 45, 23]\n"
     ]
    }
   ],
   "source": [
    "# Fatiamento de listas\n",
    "\n",
    "lista = [0, 1, 2, 3, 4, 5, 6, 7, 8, 9]\n",
    "\n",
    "# Do índice 2 (inclusivo) ao índice 5 (exclusivo)\n",
    "sublista = lista[2:5]\n",
    "print(sublista)  # Saída: [2, 3, 4]\n",
    "\n",
    "\n",
    "# Pegando elementos alternados\n",
    "sublista = lista[0:10:2]\n",
    "print(sublista)  # Saída: [0, 2, 4, 6, 8]\n",
    "\n",
    "\n",
    "# Pegando elementos de trás para frente\n",
    "reverso = lista[::-1]\n",
    "print(reverso)  # Saída: [9, 8, 7, 6, 5, 4, 3, 2, 1, 0]\n",
    "\n",
    "# Do início até o índice 5 (exclusivo)\n",
    "print(lista[:5])  # Saída: [0, 1, 2, 3, 4]\n",
    "\n",
    "# Do índice 5 até o final\n",
    "print(lista[5:])  # Saída: [5, 6, 7, 8, 9]\n",
    "\n",
    "\n",
    "idades = [23, 45, 18, 34, 30, 25, 50, 40, 37, 29]\n",
    "\n",
    "# 1. Extraia as três primeiras idades\n",
    "primeiras_idades = idades[:3:]\n",
    "\n",
    "# 2. Extraia as três últimas idades\n",
    "ultimas_idades = idades[-3::]\n",
    "\n",
    "# 3. Obtenha as idades nas posições pares\n",
    "idades_pares = idades[1::2]\n",
    "\n",
    "# 4. Inverta a ordem da lista\n",
    "idades_invertidas = idades[::-1]\n",
    "\n",
    "# Exiba os resultados\n",
    "print(\"Primeiras idades:\", primeiras_idades)\n",
    "print(\"Últimas idades:\", ultimas_idades)\n",
    "print(\"Idades nas posições pares:\", idades_pares)\n",
    "print(\"Lista invertida:\", idades_invertidas)\n",
    "\n"
   ]
  },
  {
   "cell_type": "code",
   "execution_count": null,
   "metadata": {},
   "outputs": [
    {
     "name": "stdout",
     "output_type": "stream",
     "text": [
      "on é incrível!\n",
      "on é \n",
      "Pyt\n",
      "incríve\n",
      "Pto  nrvl\n",
      "!levírcni é nohtyP\n",
      "Pytho\n",
      "el!\n",
      "el!\n",
      "Pto  nrvl\n",
      "!levírcni é nohtyP\n",
      "18\n"
     ]
    }
   ],
   "source": [
    "# Fatimamento de texto\n",
    "\n",
    "var = \"Python é incrível!\"\n",
    "\n",
    "print(var[4:]) # Começar no indice 4, se vc omitir o fim, ele vai até o final\n",
    "print(var[4:9])\n",
    "print(var[:3]) # Se vc omitir o inicio ele começa no 0 ou seja, no começo\n",
    "print(var[-9:-2])\n",
    "print(var[0:len(var):2]) # O passo vai contar de 2 em 2, de passo a passo\n",
    "print(var[::-1]) # inverte a string, porque ele vai percorrer toda a string mas começando pelo final\n"
   ]
  },
  {
   "cell_type": "code",
   "execution_count": null,
   "metadata": {},
   "outputs": [],
   "source": [
    "# Fazer o replace de um dado por outro, No = 0 e Yes = 1\n",
    "df['class'].replace({'Household': 0, 'Yes': 1})"
   ]
  },
  {
   "cell_type": "code",
   "execution_count": null,
   "metadata": {},
   "outputs": [],
   "source": [
    "# Função linear\n",
    "def funcao_linear(x,w,b):\n",
    "    return (w * x) + b\n"
   ]
  },
  {
   "cell_type": "code",
   "execution_count": null,
   "metadata": {},
   "outputs": [],
   "source": [
    "# Função de custo\n",
    "def funcao_custo( y, y_hat ):\n",
    "    custos = (y_hat - y) ** 2\n",
    "    soma = np.sum(custos)\n",
    "    m = len(y)\n",
    "    custo_total = soma / (2 * m)\n",
    "    return custo_total\n"
   ]
  },
  {
   "cell_type": "code",
   "execution_count": null,
   "metadata": {},
   "outputs": [],
   "source": [
    "# Função que recalcula o B\n",
    "def recalcular_b(x, y, w, b, tx_aprendiz):\n",
    "    m = len(x)\n",
    "    y_hat = funcao_linear(x, w, b)\n",
    "    custo_db = y_hat - y\n",
    "    db = np.sum(custo_db) / m\n",
    "    return b - (tx_aprendiz * db)\n",
    "\n"
   ]
  },
  {
   "cell_type": "code",
   "execution_count": null,
   "metadata": {},
   "outputs": [],
   "source": [
    "# Função que recalcula o W\n",
    "def recalcular_w(x, y, w, b, tx_aprendiz):\n",
    "    m = len(x)\n",
    "    y_hat = funcao_linear(x, w, b)\n",
    "    custo_dw = (y_hat - y) * x\n",
    "    dw = np.sum(custo_dw) / m\n",
    "    return w - (tx_aprendiz * dw)"
   ]
  }
 ],
 "metadata": {
  "kernelspec": {
   "display_name": "env_processamento",
   "language": "python",
   "name": "python3"
  },
  "language_info": {
   "codemirror_mode": {
    "name": "ipython",
    "version": 3
   },
   "file_extension": ".py",
   "mimetype": "text/x-python",
   "name": "python",
   "nbconvert_exporter": "python",
   "pygments_lexer": "ipython3",
   "version": "3.11.5"
  }
 },
 "nbformat": 4,
 "nbformat_minor": 2
}
